{
 "cells": [
  {
   "cell_type": "markdown",
   "metadata": {},
   "source": [
    "# Practice Notebook: Reading and Writing Files"
   ]
  },
  {
   "cell_type": "markdown",
   "metadata": {},
   "source": [
    "Assuming we have a text file containing current visitors at a guest house.We'll call it, guests.txt.  \n",
    "The code below creates the file.  \n",
    "The file will automatically populate with each initial guest's first name on its own line."
   ]
  },
  {
   "cell_type": "code",
   "execution_count": 1,
   "metadata": {},
   "outputs": [],
   "source": [
    "guests = open(\"guests.txt\", \"w\")\n",
    "initial_guests = [\"Samuel\", \"Isa\", \"Holmes\", \"Tayo\", \"Oluchi\"]\n",
    "\n",
    "for i in initial_guests:\n",
    "    guests.write(i + \"\\n\")\n",
    "    \n",
    "guests.close()"
   ]
  },
  {
   "cell_type": "markdown",
   "metadata": {},
   "source": [
    "To check the contents of the newly created guests.txt file,given that there was no output from previous cell,code below shows such contents."
   ]
  },
  {
   "cell_type": "code",
   "execution_count": 2,
   "metadata": {},
   "outputs": [
    {
     "name": "stdout",
     "output_type": "stream",
     "text": [
      "Samuel\n",
      "\n",
      "Isa\n",
      "\n",
      "Holmes\n",
      "\n",
      "Tayo\n",
      "\n",
      "Oluchi\n",
      "\n"
     ]
    }
   ],
   "source": [
    "with open(\"guests.txt\") as guests:\n",
    "    for line in guests:\n",
    "        print(line)"
   ]
  },
  {
   "cell_type": "markdown",
   "metadata": {},
   "source": [
    "The output shows that our *guests.txt* file is correctly populated with each initial guest's first name on its own line.\n",
    "\n",
    "Now suppose we want to update our file as guests check in and out. We add guests to the guests.txt file as they check in by writing the code below."
   ]
  },
  {
   "cell_type": "code",
   "execution_count": 3,
   "metadata": {},
   "outputs": [],
   "source": [
    "new_guests = [\"Elon\", \"Jemimah\", \"Karpathy\"]\n",
    "\n",
    "with open(\"guests.txt\",\"a\") as guests:\n",
    "    for i in new_guests:\n",
    "        guests.write(i + \"\\n\")\n",
    "\n",
    "guests.close()"
   ]
  },
  {
   "cell_type": "markdown",
   "metadata": {},
   "source": [
    "To check whether your code correctly added the new guests to the *guests.txt* file, run the following cell."
   ]
  },
  {
   "cell_type": "code",
   "execution_count": 4,
   "metadata": {},
   "outputs": [
    {
     "name": "stdout",
     "output_type": "stream",
     "text": [
      "Samuel\n",
      "\n",
      "Isa\n",
      "\n",
      "Holmes\n",
      "\n",
      "Tayo\n",
      "\n",
      "Oluchi\n",
      "\n",
      "Elon\n",
      "\n",
      "Jemimah\n",
      "\n",
      "Karpathy\n",
      "\n"
     ]
    }
   ],
   "source": [
    "with open(\"guests.txt\") as guests:\n",
    "    for line in guests:\n",
    "        print(line)"
   ]
  },
  {
   "cell_type": "markdown",
   "metadata": {},
   "source": [
    "The current names in the guests.txt file should be: Samuel,Isa,Holmes,Tayo,Oluchi,Elon,Jemimah and Karpathy.\n",
    "\n",
    "Now to remove the guests that have checked out already."
   ]
  },
  {
   "cell_type": "code",
   "execution_count": 8,
   "metadata": {},
   "outputs": [],
   "source": [
    "checked_out=[\"Tayo\", \"Jemimah\", \"Isa\"]\n",
    "temp_list=[]\n",
    "\n",
    "with open(\"guests.txt\",\"r\") as guests:#Open the file in \"read\" mode\n",
    "    for g in guests: #Iterating over each line and put guest's name into a list\n",
    "        temp_list.append(g.strip())\n",
    "\n",
    "with open(\"guests.txt\",\"w\") as guests:#Open the file again in\"write\"mode\n",
    "    for name in temp_list:\n",
    "        if name not in checked_out:\n",
    "\n",
    "            guests.write(name + \"\\n\")#Add each name into the list"
   ]
  },
  {
   "cell_type": "markdown",
   "metadata": {},
   "source": [
    "To check whether if code correctly removed the checked out guests from the *guests.txt* file, run the following cell."
   ]
  },
  {
   "cell_type": "code",
   "execution_count": 9,
   "metadata": {},
   "outputs": [
    {
     "name": "stdout",
     "output_type": "stream",
     "text": [
      "Samuel\n",
      "\n",
      "Holmes\n",
      "\n",
      "Oluchi\n",
      "\n",
      "Elon\n",
      "\n",
      "Karpathy\n",
      "\n"
     ]
    }
   ],
   "source": [
    "with open(\"guests.txt\") as guests:\n",
    "    for line in guests:\n",
    "        print(line)"
   ]
  },
  {
   "cell_type": "markdown",
   "metadata": {},
   "source": [
    "Code below checks if Elon, Jemimah and Tayo are still checked in."
   ]
  },
  {
   "cell_type": "code",
   "execution_count": 11,
   "metadata": {},
   "outputs": [
    {
     "name": "stdout",
     "output_type": "stream",
     "text": [
      "Elon is checked in\n",
      "Jemimah is not checked in\n",
      "Tayo is not checked in\n"
     ]
    }
   ],
   "source": [
    "guests_to_check = ['Elon', 'Jemimah', 'Tayo']\n",
    "checked_in = []\n",
    "\n",
    "with open(\"guests.txt\",\"r\") as guests:\n",
    "    for g in guests:\n",
    "        checked_in.append(g.strip())\n",
    "    for check in guests_to_check:\n",
    "        if check in checked_in:\n",
    "            print(\"{} is checked in\".format(check))\n",
    "        else:\n",
    "            print(\"{} is not checked in\".format(check))"
   ]
  },
  {
   "cell_type": "markdown",
   "metadata": {},
   "source": []
  }
 ],
 "metadata": {
  "kernelspec": {
   "display_name": "Python 3 (ipykernel)",
   "language": "python",
   "name": "python3"
  },
  "language_info": {
   "codemirror_mode": {
    "name": "ipython",
    "version": 3
   },
   "file_extension": ".py",
   "mimetype": "text/x-python",
   "name": "python",
   "nbconvert_exporter": "python",
   "pygments_lexer": "ipython3",
   "version": "3.11.3"
  }
 },
 "nbformat": 4,
 "nbformat_minor": 2
}
